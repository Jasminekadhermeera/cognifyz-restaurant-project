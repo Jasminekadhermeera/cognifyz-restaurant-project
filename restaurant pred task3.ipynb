{
 "cells": [
  {
   "cell_type": "code",
   "execution_count": 2,
   "id": "d98983af-4975-45a1-8041-e7c9ed08e62e",
   "metadata": {},
   "outputs": [
    {
     "name": "stdout",
     "output_type": "stream",
     "text": [
      "Index(['Restaurant ID', 'Restaurant Name', 'Country Code', 'City', 'Address',\n",
      "       'Locality', 'Locality Verbose', 'Longitude', 'Latitude', 'Cuisines',\n",
      "       'Average Cost for two', 'Currency', 'Has Table booking',\n",
      "       'Has Online delivery', 'Is delivering now', 'Switch to order menu',\n",
      "       'Price range', 'Aggregate rating', 'Rating color', 'Rating text',\n",
      "       'Votes'],\n",
      "      dtype='object')\n"
     ]
    }
   ],
   "source": [
    "import pandas as pd\n",
    "import numpy as np\n",
    "from sklearn.model_selection import train_test_split\n",
    "from sklearn.preprocessing import LabelEncoder, OneHotEncoder\n",
    "from sklearn.ensemble import RandomForestClassifier\n",
    "from sklearn.metrics import accuracy_score, classification_report\n",
    "\n",
    "\n",
    "df = pd.read_csv(\"C:/Users/habee/OneDrive/Desktop/Dataset .csv\")\n",
    "print(df.columns)\n",
    "\n"
   ]
  },
  {
   "cell_type": "code",
   "execution_count": 3,
   "id": "d62c3e81-7afa-405e-929a-87ad0b094728",
   "metadata": {},
   "outputs": [
    {
     "name": "stdout",
     "output_type": "stream",
     "text": [
      "Dataset after preprocessing:\n",
      "   Restaurant ID         Restaurant Name  Country Code  \\\n",
      "0        6317637        Le Petit Souffle           162   \n",
      "1        6304287        Izakaya Kikufuji           162   \n",
      "2        6300002  Heat - Edsa Shangri-La           162   \n",
      "3        6318506                    Ooma           162   \n",
      "4        6314302             Sambo Kojin           162   \n",
      "\n",
      "                                             Address  \\\n",
      "0  Third Floor, Century City Mall, Kalayaan Avenu...   \n",
      "1  Little Tokyo, 2277 Chino Roces Avenue, Legaspi...   \n",
      "2  Edsa Shangri-La, 1 Garden Way, Ortigas, Mandal...   \n",
      "3  Third Floor, Mega Fashion Hall, SM Megamall, O...   \n",
      "4  Third Floor, Mega Atrium, SM Megamall, Ortigas...   \n",
      "\n",
      "                                     Locality  \\\n",
      "0   Century City Mall, Poblacion, Makati City   \n",
      "1  Little Tokyo, Legaspi Village, Makati City   \n",
      "2  Edsa Shangri-La, Ortigas, Mandaluyong City   \n",
      "3      SM Megamall, Ortigas, Mandaluyong City   \n",
      "4      SM Megamall, Ortigas, Mandaluyong City   \n",
      "\n",
      "                                    Locality Verbose   Longitude   Latitude  \\\n",
      "0  Century City Mall, Poblacion, Makati City, Mak...  121.027535  14.565443   \n",
      "1  Little Tokyo, Legaspi Village, Makati City, Ma...  121.014101  14.553708   \n",
      "2  Edsa Shangri-La, Ortigas, Mandaluyong City, Ma...  121.056831  14.581404   \n",
      "3  SM Megamall, Ortigas, Mandaluyong City, Mandal...  121.056475  14.585318   \n",
      "4  SM Megamall, Ortigas, Mandaluyong City, Mandal...  121.057508  14.584450   \n",
      "\n",
      "   Cuisines  Average Cost for two  ...  Rating color_Green  \\\n",
      "0       920                  1100  ...               False   \n",
      "1      1111                  1200  ...               False   \n",
      "2      1671                  4000  ...                True   \n",
      "3      1126                  1500  ...               False   \n",
      "4      1122                  1500  ...               False   \n",
      "\n",
      "   Rating color_Orange  Rating color_Red  Rating color_White  \\\n",
      "0                False             False               False   \n",
      "1                False             False               False   \n",
      "2                False             False               False   \n",
      "3                False             False               False   \n",
      "4                False             False               False   \n",
      "\n",
      "   Rating color_Yellow  Rating text_Excellent  Rating text_Good  \\\n",
      "0                False                   True             False   \n",
      "1                False                   True             False   \n",
      "2                False                  False             False   \n",
      "3                False                   True             False   \n",
      "4                False                   True             False   \n",
      "\n",
      "   Rating text_Not rated  Rating text_Poor  Rating text_Very Good  \n",
      "0                  False             False                  False  \n",
      "1                  False             False                  False  \n",
      "2                  False             False                   True  \n",
      "3                  False             False                  False  \n",
      "4                  False             False                  False  \n",
      "\n",
      "[5 rows x 177 columns]\n",
      "\n",
      "Feature matrix shape: (9551, 176)\n",
      "Target variable shape: (9551,)\n"
     ]
    }
   ],
   "source": [
    "import pandas as pd\n",
    "from sklearn.preprocessing import LabelEncoder\n",
    "\n",
    "\n",
    "\n",
    "df = pd.read_csv(\"C:/Users/habee/OneDrive/Desktop/Dataset .csv\")\n",
    "# Step 1: Identify categorical columns\n",
    "categorical_columns = ['City', 'Currency', 'Has Table booking', 'Has Online delivery', \n",
    "                       'Is delivering now', 'Switch to order menu', 'Rating color', 'Rating text']\n",
    "\n",
    "\n",
    "label_encoder = LabelEncoder()\n",
    "df['Cuisines'] = label_encoder.fit_transform(df['Cuisines'])\n",
    "\n",
    "\n",
    "df = pd.get_dummies(df, columns=categorical_columns, drop_first=True)\n",
    "\n",
    "\n",
    "X = df.drop(columns=['Cuisines'])  # Features\n",
    "y = df['Cuisines']  # Target variable\n",
    "\n",
    "\n",
    "print(\"Dataset after preprocessing:\")\n",
    "print(df.head())\n",
    "print(\"\\nFeature matrix shape:\", X.shape)\n",
    "print(\"Target variable shape:\", y.shape)\n"
   ]
  },
  {
   "cell_type": "code",
   "execution_count": null,
   "id": "0f589b57-1ba9-43ca-b0b0-36b92d2dac31",
   "metadata": {},
   "outputs": [],
   "source": []
  }
 ],
 "metadata": {
  "kernelspec": {
   "display_name": "Python 3 (ipykernel)",
   "language": "python",
   "name": "python3"
  },
  "language_info": {
   "codemirror_mode": {
    "name": "ipython",
    "version": 3
   },
   "file_extension": ".py",
   "mimetype": "text/x-python",
   "name": "python",
   "nbconvert_exporter": "python",
   "pygments_lexer": "ipython3",
   "version": "3.11.5"
  }
 },
 "nbformat": 4,
 "nbformat_minor": 5
}
